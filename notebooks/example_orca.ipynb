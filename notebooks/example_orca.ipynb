{
 "cells": [
  {
   "cell_type": "markdown",
   "id": "6d689750-ee7d-4a7e-b602-30c71d695342",
   "metadata": {},
   "source": [
    "# Example of how to use the Orca wrapper\n"
   ]
  },
  {
   "cell_type": "code",
   "execution_count": 1,
   "id": "325db504-b421-44c7-84b4-a9f16e140170",
   "metadata": {},
   "outputs": [],
   "source": [
    "%load_ext autoreload\n",
    "%autoreload 2\n",
    "%matplotlib inline"
   ]
  },
  {
   "cell_type": "code",
   "execution_count": 2,
   "id": "9777df55-6093-43e0-abf6-b0e3f34a6881",
   "metadata": {},
   "outputs": [],
   "source": [
    "import sys\n",
    "import logging"
   ]
  },
  {
   "cell_type": "code",
   "execution_count": 3,
   "id": "a6409369-cfc7-49de-b6e2-405a0e02a082",
   "metadata": {},
   "outputs": [],
   "source": [
    "import matplotlib.pyplot as plt\n",
    "import numpy as np\n",
    "import pandas as pd\n",
    "from rdkit import Chem\n",
    "from rdkit.Chem import AllChem\n",
    "from rdkit.Chem.Draw import MolsToGridImage, MolToImage\n",
    "from rdkit.Chem.MolStandardize import rdMolStandardize"
   ]
  },
  {
   "cell_type": "code",
   "execution_count": 4,
   "id": "2b8278dd-17e2-4482-9513-2f1f6c84f006",
   "metadata": {},
   "outputs": [],
   "source": [
    "try:\n",
    "    import ppqm\n",
    "except ModuleNotFoundError:\n",
    "    import pathlib\n",
    "\n",
    "    cwd = pathlib.Path().resolve().parent\n",
    "    sys.path.append(str(cwd))\n",
    "    import ppqm"
   ]
  },
  {
   "cell_type": "code",
   "execution_count": 5,
   "id": "0e55deee-5f00-444a-a097-2082cbb25614",
   "metadata": {},
   "outputs": [],
   "source": [
    "from ppqm import orca"
   ]
  },
  {
   "cell_type": "markdown",
   "id": "122978f4-e70b-4ada-9a02-c07e696733e3",
   "metadata": {},
   "source": [
    "## Set logging level"
   ]
  },
  {
   "cell_type": "code",
   "execution_count": 6,
   "id": "ca79237f-8452-4afc-887b-bf91d9740b00",
   "metadata": {},
   "outputs": [],
   "source": [
    "logging.basicConfig(stream=sys.stdout, level=logging.INFO)\n",
    "logging.getLogger(\"ppqm\").setLevel(logging.INFO)\n",
    "logging.getLogger(\"orca\").setLevel(logging.DEBUG)\n",
    "show_progress = True"
   ]
  },
  {
   "cell_type": "code",
   "execution_count": 7,
   "id": "2318ca75-e093-42a7-8966-f7e88b6e02d3",
   "metadata": {},
   "outputs": [],
   "source": [
    "_logger = logging.getLogger(__name__)"
   ]
  },
  {
   "cell_type": "markdown",
   "id": "78ce2c47-a6aa-4edd-872f-0ff213335180",
   "metadata": {},
   "source": [
    "## Define a molecule you like"
   ]
  },
  {
   "cell_type": "code",
   "execution_count": 8,
   "id": "da1bea1b-ad8a-4906-a05f-741ba3fe74ee",
   "metadata": {},
   "outputs": [],
   "source": [
    "smiles = \"C([C@@H](C(=O)O)N)O\"  # I like serine\n",
    "molobj = Chem.MolFromSmiles(smiles)"
   ]
  },
  {
   "cell_type": "code",
   "execution_count": 9,
   "id": "84657c09-f9f5-48e0-b480-d2aea94261e6",
   "metadata": {},
   "outputs": [
    {
     "data": {
      "image/png": "[encoded data removed]",
      "text/plain": [
       "<rdkit.Chem.rdchem.Mol at 0x167932340>"
      ]
     },
     "execution_count": 9,
     "metadata": {},
     "output_type": "execute_result"
    }
   ],
   "source": [
    "molobj"
   ]
  },
  {
   "cell_type": "markdown",
   "id": "3b2eb377-51b4-44a0-baf5-cbb20e0601fa",
   "metadata": {},
   "source": [
    "## Define an Orca calculator object"
   ]
  },
  {
   "cell_type": "code",
   "execution_count": 10,
   "id": "c9d9ac7f-dfe7-4090-94eb-08aa861baea7",
   "metadata": {},
   "outputs": [],
   "source": [
    "orca_options = {\n",
    "    \"scr\": \"./_tmp_directory_\",  # Where should the calculations happen?\n",
    "    \"cmd\": \"orca\",  # Where is the binary executable/command?\n",
    "    \"n_cores\": 1,  # How many cores to use? Currently, only single core implemented\n",
    "    \"show_progress\": True,  # Show progressbar during calculation\n",
    "}"
   ]
  },
  {
   "cell_type": "code",
   "execution_count": 11,
   "id": "04eef2ef-864e-4858-88ed-34078aa9bca4",
   "metadata": {},
   "outputs": [
    {
     "data": {
      "text/plain": [
       "OrcaCalc(cmd=orca, scr=_tmp_directory_, n_cores=1, memory=2gb)"
      ]
     },
     "execution_count": 11,
     "metadata": {},
     "output_type": "execute_result"
    }
   ],
   "source": [
    "calc = orca.OrcaCalculator(**orca_options)\n",
    "calc"
   ]
  },
  {
   "cell_type": "markdown",
   "id": "a987c1be-1e17-4a48-8627-b782f31a54bb",
   "metadata": {},
   "source": [
    "## Define what you would like to calculate"
   ]
  },
  {
   "cell_type": "code",
   "execution_count": 12,
   "id": "436752a6-0140-4394-b680-482e286c067e",
   "metadata": {},
   "outputs": [],
   "source": [
    "# Optimize molecule in water\n",
    "calculation_option = {\n",
    "    \"B3LYP\": None,\n",
    "    \"def2-SVP\": None,\n",
    "    \"D3BJ\": None,\n",
    "    \"Hirshfeld\": None,\n",
    "    \"CPCM\": \"water\",\n",
    "    \"RIJCOSX\": None,\n",
    "    \"def2/J\": None,\n",
    "    \"Grid4\": None,\n",
    "    \"GridX4\": None,\n",
    "    \"NMR\": None,\n",
    "    \"def2/JK\": None\n",
    "}"
   ]
  },
  {
   "cell_type": "code",
   "execution_count": 13,
   "id": "3954ad95-fa2f-48a5-8b0d-3ee030d1fe9d",
   "metadata": {},
   "outputs": [],
   "source": [
    "# Generate conformers\n",
    "molobj_conf = ppqm.tasks.generate_conformers(molobj)"
   ]
  },
  {
   "cell_type": "code",
   "execution_count": 14,
   "id": "49ed0ca9-8e94-4081-a6c8-ef652a0bf366",
   "metadata": {},
   "outputs": [
    {
     "data": {
      "text/plain": [
       "7"
      ]
     },
     "execution_count": 14,
     "metadata": {},
     "output_type": "execute_result"
    }
   ],
   "source": [
    "molobj_conf.GetNumConformers()"
   ]
  },
  {
   "cell_type": "code",
   "execution_count": 15,
   "id": "a2810654-fb6c-4cde-a7ee-4ebf8aea1c2e",
   "metadata": {},
   "outputs": [
    {
     "name": "stdout",
     "output_type": "stream",
     "text": [
      "orca(1):   0%|                                            | 0/7 [00:00<?, ?it/s]DEBUG:orca:orca _tmp_orca_input.inp\n",
      "orca(1):  14%|█████▏                              | 1/7 [00:56<05:36, 56.14s/it]DEBUG:orca:orca _tmp_orca_input.inp\n",
      "orca(1):  29%|██████████▎                         | 2/7 [01:50<04:36, 55.23s/it]DEBUG:orca:orca _tmp_orca_input.inp\n",
      "orca(1):  43%|███████████████▍                    | 3/7 [02:50<03:49, 57.41s/it]DEBUG:orca:orca _tmp_orca_input.inp\n",
      "orca(1):  57%|████████████████████▌               | 4/7 [03:45<02:49, 56.55s/it]DEBUG:orca:orca _tmp_orca_input.inp\n",
      "orca(1):  71%|█████████████████████████▋          | 5/7 [04:42<01:53, 56.57s/it]DEBUG:orca:orca _tmp_orca_input.inp\n",
      "orca(1):  86%|██████████████████████████████▊     | 6/7 [05:36<00:55, 55.84s/it]DEBUG:orca:orca _tmp_orca_input.inp\n",
      "orca(1): 100%|████████████████████████████████████| 7/7 [06:34<00:00, 56.30s/it]\n"
     ]
    }
   ],
   "source": [
    "# Calculate energy of conformers\n",
    "results = calc.calculate(molobj_conf, calculation_option)"
   ]
  },
  {
   "cell_type": "code",
   "execution_count": 16,
   "id": "c43525c2-64bc-4b8c-8b83-bd9a1e2ac6bd",
   "metadata": {},
   "outputs": [
    {
     "name": "stdout",
     "output_type": "stream",
     "text": [
      "<class 'list'>\n",
      "<class 'dict'>\n",
      "dict_keys(['scf_energy', 'mulliken_charges', 'loewdin_charges', 'hirshfeld_charges', 'shielding_constants'])\n"
     ]
    }
   ],
   "source": [
    "# The output type\n",
    "print(type(results))\n",
    "print(type(results[0]))\n",
    "print(results[0].keys())"
   ]
  },
  {
   "cell_type": "markdown",
   "id": "54114137-47a3-4daf-8733-0f50c2b6e917",
   "metadata": {},
   "source": [
    "## Transfer the results into a Pandas dataframe"
   ]
  },
  {
   "cell_type": "code",
   "execution_count": 17,
   "id": "90b56011-5e92-4762-aed0-ebce046b405d",
   "metadata": {},
   "outputs": [
    {
     "data": {
      "text/html": [
       "<div>\n",
       "<style scoped>\n",
       "    .dataframe tbody tr th:only-of-type {\n",
       "        vertical-align: middle;\n",
       "    }\n",
       "\n",
       "    .dataframe tbody tr th {\n",
       "        vertical-align: top;\n",
       "    }\n",
       "\n",
       "    .dataframe thead th {\n",
       "        text-align: right;\n",
       "    }\n",
       "</style>\n",
       "<table border=\"1\" class=\"dataframe\">\n",
       "  <thead>\n",
       "    <tr style=\"text-align: right;\">\n",
       "      <th></th>\n",
       "      <th>scf_energy</th>\n",
       "      <th>mulliken_charges</th>\n",
       "      <th>loewdin_charges</th>\n",
       "      <th>hirshfeld_charges</th>\n",
       "      <th>shielding_constants</th>\n",
       "    </tr>\n",
       "  </thead>\n",
       "  <tbody>\n",
       "    <tr>\n",
       "      <th>0</th>\n",
       "      <td>-250040.154966</td>\n",
       "      <td>[0.21135, 0.023545, 0.163517, -0.30522, -0.264...</td>\n",
       "      <td>[0.073503, -0.034813, 0.115514, -0.257363, -0....</td>\n",
       "      <td>[0.051213, 0.036282, 0.238748, -0.34372, -0.21...</td>\n",
       "      <td>[124.232, 139.436, 2.643, -126.971, 147.001, 2...</td>\n",
       "    </tr>\n",
       "    <tr>\n",
       "      <th>1</th>\n",
       "      <td>-250030.565547</td>\n",
       "      <td>[0.186474, 0.024444, 0.204225, -0.287001, -0.3...</td>\n",
       "      <td>[0.072157, -0.036831, 0.141129, -0.23561, -0.1...</td>\n",
       "      <td>[0.054048, 0.02748, 0.247221, -0.32863, -0.238...</td>\n",
       "      <td>[121.717, 132.252, -4.882, -186.124, 175.966, ...</td>\n",
       "    </tr>\n",
       "    <tr>\n",
       "      <th>2</th>\n",
       "      <td>-250034.485978</td>\n",
       "      <td>[0.22269, 0.013351, 0.205325, -0.303632, -0.28...</td>\n",
       "      <td>[0.074807, -0.039603, 0.133517, -0.247873, -0....</td>\n",
       "      <td>[0.054159, 0.027102, 0.240122, -0.340616, -0.2...</td>\n",
       "      <td>[124.328, 136.57, 2.661, -143.065, 152.898, 23...</td>\n",
       "    </tr>\n",
       "    <tr>\n",
       "      <th>3</th>\n",
       "      <td>-250033.890494</td>\n",
       "      <td>[0.211904, 0.003249, 0.198013, -0.300371, -0.2...</td>\n",
       "      <td>[0.067639, -0.047667, 0.131571, -0.248344, -0....</td>\n",
       "      <td>[0.046955, 0.030837, 0.244865, -0.343788, -0.2...</td>\n",
       "      <td>[122.344, 136.958, -2.386, -150.349, 169.307, ...</td>\n",
       "    </tr>\n",
       "    <tr>\n",
       "      <th>4</th>\n",
       "      <td>-250032.186412</td>\n",
       "      <td>[0.197004, 0.047989, 0.178434, -0.327246, -0.2...</td>\n",
       "      <td>[0.067424, -0.033221, 0.122833, -0.26604, -0.1...</td>\n",
       "      <td>[0.046428, 0.035691, 0.238702, -0.354257, -0.2...</td>\n",
       "      <td>[124.548, 134.705, -1.218, -123.465, 141.155, ...</td>\n",
       "    </tr>\n",
       "    <tr>\n",
       "      <th>5</th>\n",
       "      <td>-250032.123110</td>\n",
       "      <td>[0.222174, 0.006596, 0.211854, -0.300056, -0.2...</td>\n",
       "      <td>[0.067958, -0.025526, 0.140313, -0.235256, -0....</td>\n",
       "      <td>[0.04345, 0.036576, 0.25426, -0.314273, -0.224...</td>\n",
       "      <td>[122.432, 137.108, -4.065, -164.531, 177.92, 2...</td>\n",
       "    </tr>\n",
       "    <tr>\n",
       "      <th>6</th>\n",
       "      <td>-250038.630875</td>\n",
       "      <td>[0.194298, -0.013324, 0.193708, -0.318859, -0....</td>\n",
       "      <td>[0.059913, -0.026989, 0.114525, -0.263269, -0....</td>\n",
       "      <td>[0.049405, 0.034503, 0.226333, -0.355265, -0.2...</td>\n",
       "      <td>[126.138, 139.513, 4.831, -95.13, 135.983, 233...</td>\n",
       "    </tr>\n",
       "  </tbody>\n",
       "</table>\n",
       "</div>"
      ],
      "text/plain": [
       "      scf_energy                                   mulliken_charges  \\\n",
       "0 -250040.154966  [0.21135, 0.023545, 0.163517, -0.30522, -0.264...   \n",
       "1 -250030.565547  [0.186474, 0.024444, 0.204225, -0.287001, -0.3...   \n",
       "2 -250034.485978  [0.22269, 0.013351, 0.205325, -0.303632, -0.28...   \n",
       "3 -250033.890494  [0.211904, 0.003249, 0.198013, -0.300371, -0.2...   \n",
       "4 -250032.186412  [0.197004, 0.047989, 0.178434, -0.327246, -0.2...   \n",
       "5 -250032.123110  [0.222174, 0.006596, 0.211854, -0.300056, -0.2...   \n",
       "6 -250038.630875  [0.194298, -0.013324, 0.193708, -0.318859, -0....   \n",
       "\n",
       "                                     loewdin_charges  \\\n",
       "0  [0.073503, -0.034813, 0.115514, -0.257363, -0....   \n",
       "1  [0.072157, -0.036831, 0.141129, -0.23561, -0.1...   \n",
       "2  [0.074807, -0.039603, 0.133517, -0.247873, -0....   \n",
       "3  [0.067639, -0.047667, 0.131571, -0.248344, -0....   \n",
       "4  [0.067424, -0.033221, 0.122833, -0.26604, -0.1...   \n",
       "5  [0.067958, -0.025526, 0.140313, -0.235256, -0....   \n",
       "6  [0.059913, -0.026989, 0.114525, -0.263269, -0....   \n",
       "\n",
       "                                   hirshfeld_charges  \\\n",
       "0  [0.051213, 0.036282, 0.238748, -0.34372, -0.21...   \n",
       "1  [0.054048, 0.02748, 0.247221, -0.32863, -0.238...   \n",
       "2  [0.054159, 0.027102, 0.240122, -0.340616, -0.2...   \n",
       "3  [0.046955, 0.030837, 0.244865, -0.343788, -0.2...   \n",
       "4  [0.046428, 0.035691, 0.238702, -0.354257, -0.2...   \n",
       "5  [0.04345, 0.036576, 0.25426, -0.314273, -0.224...   \n",
       "6  [0.049405, 0.034503, 0.226333, -0.355265, -0.2...   \n",
       "\n",
       "                                 shielding_constants  \n",
       "0  [124.232, 139.436, 2.643, -126.971, 147.001, 2...  \n",
       "1  [121.717, 132.252, -4.882, -186.124, 175.966, ...  \n",
       "2  [124.328, 136.57, 2.661, -143.065, 152.898, 23...  \n",
       "3  [122.344, 136.958, -2.386, -150.349, 169.307, ...  \n",
       "4  [124.548, 134.705, -1.218, -123.465, 141.155, ...  \n",
       "5  [122.432, 137.108, -4.065, -164.531, 177.92, 2...  \n",
       "6  [126.138, 139.513, 4.831, -95.13, 135.983, 233...  "
      ]
     },
     "execution_count": 17,
     "metadata": {},
     "output_type": "execute_result"
    }
   ],
   "source": [
    "df = pd.DataFrame(results)\n",
    "df"
   ]
  }
 ],
 "metadata": {
  "kernelspec": {
   "display_name": "Python 3 (ipykernel)",
   "language": "python",
   "name": "python3"
  },
  "language_info": {
   "codemirror_mode": {
    "name": "ipython",
    "version": 3
   },
   "file_extension": ".py",
   "mimetype": "text/x-python",
   "name": "python",
   "nbconvert_exporter": "python",
   "pygments_lexer": "ipython3",
   "version": "3.9.9"
  }
 },
 "nbformat": 4,
 "nbformat_minor": 5
}
