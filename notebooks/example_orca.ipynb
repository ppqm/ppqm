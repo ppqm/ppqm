{
 "cells": [
  {
   "cell_type": "markdown",
   "id": "6d689750-ee7d-4a7e-b602-30c71d695342",
   "metadata": {},
   "source": [
    "# Example of how to use the Orca wrapper\n"
   ]
  },
  {
   "cell_type": "code",
   "execution_count": null,
   "id": "325db504-b421-44c7-84b4-a9f16e140170",
   "metadata": {},
   "outputs": [],
   "source": [
    "%load_ext autoreload\n",
    "%autoreload 2\n",
    "%matplotlib inline"
   ]
  },
  {
   "cell_type": "code",
   "execution_count": null,
   "id": "9777df55-6093-43e0-abf6-b0e3f34a6881",
   "metadata": {},
   "outputs": [],
   "source": [
    "import sys\n",
    "import logging"
   ]
  },
  {
   "cell_type": "code",
   "execution_count": null,
   "id": "a6409369-cfc7-49de-b6e2-405a0e02a082",
   "metadata": {},
   "outputs": [],
   "source": [
    "import matplotlib.pyplot as plt\n",
    "import numpy as np\n",
    "import pandas as pd\n",
    "from rdkit import Chem\n",
    "from rdkit.Chem import AllChem\n",
    "from rdkit.Chem.Draw import MolsToGridImage, MolToImage\n",
    "from rdkit.Chem.MolStandardize import rdMolStandardize"
   ]
  },
  {
   "cell_type": "code",
   "execution_count": null,
   "id": "2b8278dd-17e2-4482-9513-2f1f6c84f006",
   "metadata": {},
   "outputs": [],
   "source": [
    "try:\n",
    "    import ppqm\n",
    "except ModuleNotFoundError:\n",
    "    import pathlib\n",
    "\n",
    "    cwd = pathlib.Path().resolve().parent\n",
    "    sys.path.append(str(cwd))\n",
    "    import ppqm"
   ]
  },
  {
   "cell_type": "code",
   "execution_count": null,
   "id": "0e55deee-5f00-444a-a097-2082cbb25614",
   "metadata": {},
   "outputs": [],
   "source": [
    "from ppqm import orca\n",
    "from ppqm import jupyter as ppqm_jupyter"
   ]
  },
  {
   "cell_type": "markdown",
   "id": "122978f4-e70b-4ada-9a02-c07e696733e3",
   "metadata": {},
   "source": [
    "## Set logging level"
   ]
  },
  {
   "cell_type": "code",
   "execution_count": null,
   "id": "ca79237f-8452-4afc-887b-bf91d9740b00",
   "metadata": {},
   "outputs": [],
   "source": [
    "logging.basicConfig(stream=sys.stdout, level=logging.INFO)\n",
    "logging.getLogger(\"ppqm\").setLevel(logging.INFO)\n",
    "logging.getLogger(\"orca\").setLevel(logging.DEBUG)\n",
    "show_progress = True"
   ]
  },
  {
   "cell_type": "code",
   "execution_count": null,
   "id": "2318ca75-e093-42a7-8966-f7e88b6e02d3",
   "metadata": {},
   "outputs": [],
   "source": [
    "_logger = logging.getLogger(__name__)"
   ]
  },
  {
   "cell_type": "markdown",
   "id": "78ce2c47-a6aa-4edd-872f-0ff213335180",
   "metadata": {},
   "source": [
    "## Define a molecule you like"
   ]
  },
  {
   "cell_type": "code",
   "execution_count": null,
   "id": "da1bea1b-ad8a-4906-a05f-741ba3fe74ee",
   "metadata": {},
   "outputs": [],
   "source": [
    "smiles = \"C([C@@H](C(=O)O)N)O\"  # I like serine\n",
    "molobj = Chem.MolFromSmiles(smiles)"
   ]
  },
  {
   "cell_type": "code",
   "execution_count": null,
   "id": "84657c09-f9f5-48e0-b480-d2aea94261e6",
   "metadata": {},
   "outputs": [],
   "source": [
    "molobj"
   ]
  },
  {
   "cell_type": "markdown",
   "id": "3b2eb377-51b4-44a0-baf5-cbb20e0601fa",
   "metadata": {},
   "source": [
    "## Define an Orca calculator object"
   ]
  },
  {
   "cell_type": "code",
   "execution_count": null,
   "id": "c9d9ac7f-dfe7-4090-94eb-08aa861baea7",
   "metadata": {},
   "outputs": [],
   "source": [
    "orca_options = {\n",
    "    \"scr\": \"./_tmp_directory_\",  # Where should the calculations happen?\n",
    "    \"cmd\": \"orca\",  # Where is the binary executable/command?\n",
    "    \"n_cores\": 8,  # How many cores to use?\n",
    "    \"show_progress\": True,  # Show progressbar during calculation\n",
    "}"
   ]
  },
  {
   "cell_type": "code",
   "execution_count": null,
   "id": "04eef2ef-864e-4858-88ed-34078aa9bca4",
   "metadata": {},
   "outputs": [],
   "source": [
    "calc = orca.OrcaCalculator(**orca_options)\n",
    "calc"
   ]
  },
  {
   "cell_type": "markdown",
   "id": "a987c1be-1e17-4a48-8627-b782f31a54bb",
   "metadata": {},
   "source": [
    "## Define what you would like to calculate"
   ]
  },
  {
   "cell_type": "code",
   "execution_count": null,
   "id": "436752a6-0140-4394-b680-482e286c067e",
   "metadata": {},
   "outputs": [],
   "source": [
    "# Calculate values for molecule in water\n",
    "calculation_option = {\n",
    "    \"B3LYP\": None,\n",
    "    \"def2-SVP\": None,\n",
    "    \"D3BJ\": None,\n",
    "    \"Hirshfeld\": None,\n",
    "    \"CPCM\": \"water\",\n",
    "    \"RIJCOSX\": None,\n",
    "    \"def2/J\": None,\n",
    "    \"Grid4\": None,\n",
    "    \"GridX4\": None,\n",
    "    \"NMR\": None,\n",
    "    \"def2/JK\": None\n",
    "}"
   ]
  },
  {
   "cell_type": "code",
   "execution_count": null,
   "id": "3954ad95-fa2f-48a5-8b0d-3ee030d1fe9d",
   "metadata": {},
   "outputs": [],
   "source": [
    "# Generate conformers\n",
    "molobj_conf = ppqm.tasks.generate_conformers(molobj, max_conformers=3)"
   ]
  },
  {
   "cell_type": "code",
   "execution_count": null,
   "id": "49ed0ca9-8e94-4081-a6c8-ef652a0bf366",
   "metadata": {},
   "outputs": [],
   "source": [
    "molobj_conf.GetNumConformers()"
   ]
  },
  {
   "cell_type": "code",
   "execution_count": null,
   "id": "a2810654-fb6c-4cde-a7ee-4ebf8aea1c2e",
   "metadata": {},
   "outputs": [],
   "source": [
    "# Calculate energy of conformers\n",
    "results = calc.calculate(molobj_conf, calculation_option)"
   ]
  },
  {
   "cell_type": "code",
   "execution_count": null,
   "id": "c43525c2-64bc-4b8c-8b83-bd9a1e2ac6bd",
   "metadata": {},
   "outputs": [],
   "source": [
    "# The output type\n",
    "print(type(results))\n",
    "print(type(results[0]))\n",
    "print(results[0].keys())"
   ]
  },
  {
   "cell_type": "code",
   "execution_count": null,
   "id": "70847237",
   "metadata": {},
   "outputs": [],
   "source": [
    "# Collect all the orca energies\n",
    "conformer_energies = [result[\"scf_energy\"] for result in results]"
   ]
  },
  {
   "cell_type": "code",
   "execution_count": null,
   "id": "bd9d6e30",
   "metadata": {},
   "outputs": [],
   "source": [
    "# Find the lowest energy\n",
    "idx = np.argmin(conformer_energies)\n",
    "idx"
   ]
  },
  {
   "cell_type": "markdown",
   "id": "54114137-47a3-4daf-8733-0f50c2b6e917",
   "metadata": {},
   "source": [
    "## Transfer the results into a Pandas dataframe"
   ]
  },
  {
   "cell_type": "code",
   "execution_count": null,
   "id": "90b56011-5e92-4762-aed0-ebce046b405d",
   "metadata": {},
   "outputs": [],
   "source": [
    "df = pd.DataFrame(results)\n",
    "df"
   ]
  },
  {
   "cell_type": "code",
   "execution_count": null,
   "id": "2b8bdbfb",
   "metadata": {},
   "outputs": [],
   "source": [
    "# get coordinates for lowest energy conformer\n",
    "coord = results[idx][\"coord\"]"
   ]
  },
  {
   "cell_type": "code",
   "execution_count": null,
   "id": "e54a8541",
   "metadata": {},
   "outputs": [],
   "source": [
    "# get mulliken charges for lowest energy conformer\n",
    "mulliken = results[idx][\"mulliken_charges\"]\n",
    "mulliken"
   ]
  },
  {
   "cell_type": "code",
   "execution_count": null,
   "id": "e60aa4f3",
   "metadata": {},
   "outputs": [],
   "source": [
    "# Copy only the graph of the molecule, keeping the atom order\n",
    "molobj_prime = ppqm.chembridge.copy_molobj(molobj_conf)\n",
    "\n",
    "# Get the coordinates of the best conformer\n",
    "coord = results[idx][\"coord\"]\n",
    "\n",
    "# Add conformer to molobj\n",
    "ppqm.chembridge.molobj_add_conformer(molobj_prime, coord)"
   ]
  },
  {
   "cell_type": "code",
   "execution_count": null,
   "id": "ff55b33a",
   "metadata": {},
   "outputs": [],
   "source": [
    "ppqm_jupyter.show_molobj(molobj_prime)"
   ]
  },
  {
   "cell_type": "code",
   "execution_count": null,
   "id": "d0b95fe7",
   "metadata": {},
   "outputs": [],
   "source": [
    "for coef, atom in zip(mulliken, molobj_prime.GetAtoms()):\n",
    "    label = f\"{coef:.2f}\"\n",
    "    atom.SetProp(\"atomNote\", label)"
   ]
  },
  {
   "cell_type": "code",
   "execution_count": null,
   "id": "13cd2371",
   "metadata": {},
   "outputs": [],
   "source": [
    "MolToImage(\n",
    "    Chem.RemoveHs(molobj_prime),\n",
    "    size=(300, 300),\n",
    ")"
   ]
  }
 ],
 "metadata": {
  "language_info": {
   "name": "python"
  }
 },
 "nbformat": 4,
 "nbformat_minor": 5
}
