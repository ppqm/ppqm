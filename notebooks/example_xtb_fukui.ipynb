{
 "cells": [
  {
   "cell_type": "markdown",
   "id": "cf3273f7-af1d-476e-b14a-446f1eaeeeb7",
   "metadata": {},
   "source": [
    "# Example of calculating atom specific property\n",
    "\n",
    "Damn, I really want to know what the Fukui coefficient for particular atoms centers.\n",
    "\n",
    "- Find some conformers\n",
    "- Find the best conformer (based on energy)\n",
    "- Calculate Fukui coefficients\n",
    "- Map the coefficients to atoms\n"
   ]
  },
  {
   "cell_type": "code",
   "execution_count": null,
   "id": "excess-secretary",
   "metadata": {},
   "outputs": [],
   "source": [
    "%load_ext autoreload\n",
    "%autoreload 2\n",
    "%matplotlib inline"
   ]
  },
  {
   "cell_type": "code",
   "execution_count": null,
   "id": "fourth-ebony",
   "metadata": {},
   "outputs": [],
   "source": [
    "import logging\n",
    "import sys"
   ]
  },
  {
   "cell_type": "code",
   "execution_count": null,
   "id": "fluid-annual",
   "metadata": {},
   "outputs": [],
   "source": [
    "import matplotlib.pyplot as plt\n",
    "import numpy as np\n",
    "import pandas as pd\n",
    "from rdkit import Chem\n",
    "from rdkit.Chem import AllChem\n",
    "from rdkit.Chem.Draw import MolsToGridImage, MolToImage\n",
    "from rdkit.Chem.MolStandardize import rdMolStandardize"
   ]
  },
  {
   "cell_type": "code",
   "execution_count": null,
   "id": "english-garage",
   "metadata": {},
   "outputs": [],
   "source": [
    "try:\n",
    "    import ppqm\n",
    "except ModuleNotFoundError:\n",
    "    import pathlib\n",
    "\n",
    "    cwd = pathlib.Path().resolve().parent\n",
    "    sys.path.append(str(cwd))\n",
    "    import ppqm"
   ]
  },
  {
   "cell_type": "code",
   "execution_count": null,
   "id": "1eaadf8a-0cfc-43b7-891f-604ae396d6eb",
   "metadata": {},
   "outputs": [],
   "source": [
    "from ppqm import jupyter as ppqm_jupyter"
   ]
  },
  {
   "cell_type": "markdown",
   "id": "judicial-validation",
   "metadata": {},
   "source": [
    "## Set logging level"
   ]
  },
  {
   "cell_type": "code",
   "execution_count": null,
   "id": "nutritional-bahamas",
   "metadata": {},
   "outputs": [],
   "source": [
    "logging.basicConfig(stream=sys.stdout, level=logging.INFO)\n",
    "logging.getLogger(\"ppqm\").setLevel(logging.INFO)\n",
    "logging.getLogger(\"xtb\").setLevel(logging.INFO)\n",
    "show_progress = True"
   ]
  },
  {
   "cell_type": "markdown",
   "id": "knowing-bouquet",
   "metadata": {},
   "source": [
    "## Define a molecule you like"
   ]
  },
  {
   "cell_type": "code",
   "execution_count": null,
   "id": "threaded-difference",
   "metadata": {},
   "outputs": [],
   "source": [
    "smiles = \"CCOC(=O)C1=C(C)N=C(C)/C(=C(\\O)OCC)C1C\"  # CHEMBL3189958\n",
    "molobj = Chem.MolFromSmiles(smiles)"
   ]
  },
  {
   "cell_type": "code",
   "execution_count": null,
   "id": "aggressive-promotion",
   "metadata": {},
   "outputs": [],
   "source": [
    "molobj"
   ]
  },
  {
   "cell_type": "code",
   "execution_count": null,
   "id": "caroline-advertiser",
   "metadata": {},
   "outputs": [],
   "source": [
    "xtb_options = {\n",
    "    \"scr\": \"./_tmp_directory_\",  # Where should the calculations happen?\n",
    "    \"cmd\": \"xtb\",  # What is the executable?\n",
    "    \"n_cores\": 4,  # How many cores to use?\n",
    "    \"show_progress\": show_progress,\n",
    "}"
   ]
  },
  {
   "cell_type": "code",
   "execution_count": null,
   "id": "sought-rolling",
   "metadata": {},
   "outputs": [],
   "source": [
    "calc = ppqm.xtb.XtbCalculator(**xtb_options)"
   ]
  },
  {
   "cell_type": "code",
   "execution_count": null,
   "id": "certain-fluid",
   "metadata": {},
   "outputs": [],
   "source": [
    "calc"
   ]
  },
  {
   "cell_type": "markdown",
   "id": "configured-appreciation",
   "metadata": {},
   "source": [
    "## Get a single conformer\n",
    "\n",
    "\n"
   ]
  },
  {
   "cell_type": "code",
   "execution_count": null,
   "id": "standing-transparency",
   "metadata": {},
   "outputs": [],
   "source": [
    "optimize_options = {\n",
    "    \"gfn\": 2,\n",
    "    \"alpb\": \"h2o\",\n",
    "    \"opt\": None,\n",
    "}"
   ]
  },
  {
   "cell_type": "code",
   "execution_count": null,
   "id": "finite-midnight",
   "metadata": {},
   "outputs": [],
   "source": [
    "# Generate conformers\n",
    "molobj_conf = ppqm.tasks.generate_conformers(molobj)"
   ]
  },
  {
   "cell_type": "code",
   "execution_count": null,
   "id": "desirable-practice",
   "metadata": {},
   "outputs": [],
   "source": [
    "molobj_conf.GetNumConformers()"
   ]
  },
  {
   "cell_type": "code",
   "execution_count": null,
   "id": "twelve-scope",
   "metadata": {},
   "outputs": [],
   "source": [
    "# Optimize conformers\n",
    "results = calc.calculate(molobj_conf, optimize_options)"
   ]
  },
  {
   "cell_type": "code",
   "execution_count": null,
   "id": "black-lover",
   "metadata": {},
   "outputs": [],
   "source": [
    "# Collect all the xTB energies\n",
    "conformer_energies = [result[\"scc_energy\"] for result in results]"
   ]
  },
  {
   "cell_type": "code",
   "execution_count": null,
   "id": "requested-loading",
   "metadata": {},
   "outputs": [],
   "source": [
    "# Find the lowest energy\n",
    "idx = np.argmin(conformer_energies)"
   ]
  },
  {
   "cell_type": "code",
   "execution_count": null,
   "id": "essential-register",
   "metadata": {},
   "outputs": [],
   "source": [
    "# Copy only the graph of the molecule, keeping the atom order\n",
    "molobj_prime = ppqm.chembridge.copy_molobj(molobj_conf)  # Mol(mol, True)\n",
    "\n",
    "# Get the coordinates of the best conformer\n",
    "coord = results[idx][\"coord\"]\n",
    "\n",
    "# Add conformer to molobj\n",
    "ppqm.chembridge.molobj_add_conformer(molobj_prime, coord)"
   ]
  },
  {
   "cell_type": "code",
   "execution_count": null,
   "id": "logical-hughes",
   "metadata": {},
   "outputs": [],
   "source": [
    "ppqm_jupyter.show_molobj(molobj_prime)"
   ]
  },
  {
   "cell_type": "markdown",
   "id": "burning-style",
   "metadata": {},
   "source": [
    "## Calculate Fukui coefficients and map to atoms"
   ]
  },
  {
   "cell_type": "code",
   "execution_count": null,
   "id": "logical-seeking",
   "metadata": {},
   "outputs": [],
   "source": [
    "atoms = molobj_prime.GetAtoms()\n",
    "atoms = list(atoms)\n",
    "print(len(atoms))\n",
    "print([atom.GetSymbol() for atom in atoms])"
   ]
  },
  {
   "cell_type": "code",
   "execution_count": null,
   "id": "divine-digit",
   "metadata": {},
   "outputs": [],
   "source": [
    "# Calculate fukui coefficients\n",
    "fukui_options = {\n",
    "    \"gfn\": 2,\n",
    "    \"alpb\": \"h2o\",\n",
    "    \"vfukui\": None,\n",
    "}"
   ]
  },
  {
   "cell_type": "code",
   "execution_count": null,
   "id": "lesser-constitution",
   "metadata": {},
   "outputs": [],
   "source": [
    "# Results are returned as list(properties_dictionary), however we only have one conformer here.\n",
    "# So note that the list only has one dictionary\n",
    "fukui_results = calc.calculate(molobj_prime, fukui_options)"
   ]
  },
  {
   "cell_type": "code",
   "execution_count": null,
   "id": "danish-modern",
   "metadata": {},
   "outputs": [],
   "source": [
    "fukui_results"
   ]
  },
  {
   "cell_type": "code",
   "execution_count": null,
   "id": "numerical-coast",
   "metadata": {},
   "outputs": [],
   "source": [
    "fukui_result = fukui_results[0]"
   ]
  },
  {
   "cell_type": "code",
   "execution_count": null,
   "id": "chicken-miracle",
   "metadata": {},
   "outputs": [],
   "source": [
    "df = pd.DataFrame(fukui_result)"
   ]
  },
  {
   "cell_type": "code",
   "execution_count": null,
   "id": "packed-nature",
   "metadata": {},
   "outputs": [],
   "source": [
    "len(df)"
   ]
  },
  {
   "cell_type": "code",
   "execution_count": null,
   "id": "plain-circular",
   "metadata": {},
   "outputs": [],
   "source": [
    "df.head()"
   ]
  },
  {
   "cell_type": "code",
   "execution_count": null,
   "id": "healthy-rabbit",
   "metadata": {},
   "outputs": [],
   "source": [
    "fukui = fukui_result[\"f_minus\"]"
   ]
  },
  {
   "cell_type": "code",
   "execution_count": null,
   "id": "polish-while",
   "metadata": {},
   "outputs": [],
   "source": [
    "# copy molobj to make a pretty picture\n",
    "molobj_omega = ppqm.chembridge.copy_molobj(molobj_prime)"
   ]
  },
  {
   "cell_type": "code",
   "execution_count": null,
   "id": "dietary-gardening",
   "metadata": {},
   "outputs": [],
   "source": [
    "for coef, atom in zip(fukui, molobj_omega.GetAtoms()):\n",
    "    label = f\"{coef:.2f}\"\n",
    "    atom.SetProp(\"atomNote\", label)"
   ]
  },
  {
   "cell_type": "code",
   "execution_count": null,
   "id": "compound-despite",
   "metadata": {},
   "outputs": [],
   "source": [
    "MolToImage(\n",
    "    Chem.RemoveHs(molobj_omega),\n",
    "    size=(500, 500),\n",
    ")"
   ]
  }
 ],
 "metadata": {
  "language_info": {
   "name": "python"
  }
 },
 "nbformat": 4,
 "nbformat_minor": 5
}
