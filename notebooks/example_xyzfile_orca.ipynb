{
 "cells": [
  {
   "cell_type": "markdown",
   "metadata": {},
   "source": [
    "# Example usage of Orca with XYZ files\n",
    "\n",
    "You can still use molobjs (or ppqm functions) directly, if you have XYZ files to compute.\n"
   ]
  },
  {
   "cell_type": "code",
   "execution_count": null,
   "metadata": {},
   "outputs": [],
   "source": [
    "%load_ext autoreload\n",
    "%autoreload 2\n",
    "%matplotlib inline"
   ]
  },
  {
   "cell_type": "code",
   "execution_count": null,
   "metadata": {},
   "outputs": [],
   "source": [
    "import logging\n",
    "import sys"
   ]
  },
  {
   "cell_type": "code",
   "execution_count": null,
   "metadata": {},
   "outputs": [],
   "source": [
    "import pandas as pd\n",
    "from rdkit import Chem\n",
    "from rdkit.Chem.Draw import MolsToGridImage"
   ]
  },
  {
   "cell_type": "code",
   "execution_count": null,
   "metadata": {},
   "outputs": [],
   "source": [
    "try:\n",
    "    import ppqm\n",
    "except ModuleNotFoundError:\n",
    "    import pathlib\n",
    "\n",
    "    cwd = pathlib.Path().resolve().parent\n",
    "    sys.path.append(str(cwd))\n",
    "    import ppqm"
   ]
  },
  {
   "cell_type": "code",
   "execution_count": null,
   "metadata": {},
   "outputs": [],
   "source": [
    "from ppqm import jupyter as ppqm_jupyter"
   ]
  },
  {
   "cell_type": "code",
   "execution_count": null,
   "metadata": {},
   "outputs": [],
   "source": [
    "import rmsd"
   ]
  },
  {
   "cell_type": "markdown",
   "metadata": {},
   "source": [
    "## Set logging level"
   ]
  },
  {
   "cell_type": "code",
   "execution_count": null,
   "metadata": {},
   "outputs": [],
   "source": [
    "logging.basicConfig(stream=sys.stdout, level=logging.INFO)\n",
    "logging.getLogger(\"ppqm\").setLevel(logging.INFO)\n",
    "logging.getLogger(\"orca\").setLevel(logging.DEBUG)\n",
    "show_progress = True"
   ]
  },
  {
   "cell_type": "markdown",
   "metadata": {},
   "source": [
    "## Load a XYZ file"
   ]
  },
  {
   "cell_type": "code",
   "execution_count": null,
   "metadata": {},
   "outputs": [],
   "source": [
    "filename = \"../tests/resources/compounds/methane.xyz\""
   ]
  },
  {
   "cell_type": "code",
   "execution_count": null,
   "metadata": {},
   "outputs": [],
   "source": [
    "atoms, coordinates = rmsd.get_coordinates_xyz(filename)"
   ]
  },
  {
   "cell_type": "code",
   "execution_count": null,
   "metadata": {},
   "outputs": [],
   "source": [
    "atoms"
   ]
  },
  {
   "cell_type": "code",
   "execution_count": null,
   "metadata": {},
   "outputs": [],
   "source": [
    "charge = 0\n",
    "spin = 1"
   ]
  },
  {
   "cell_type": "markdown",
   "metadata": {},
   "source": [
    "## View the molecule\n",
    "\n",
    "Note that no explict bonds are written in XYZ format, only the coordinates.\n",
    "So RDKit does not now how the graph of the molecule looks like\n"
   ]
  },
  {
   "cell_type": "code",
   "execution_count": null,
   "metadata": {},
   "outputs": [],
   "source": [
    "molobj = ppqm.chembridge.axyzc_to_molobj(atoms, coordinates, charge)\n",
    "molobj"
   ]
  },
  {
   "cell_type": "code",
   "execution_count": null,
   "metadata": {},
   "outputs": [],
   "source": [
    "ppqm_jupyter.show_molobj(molobj)"
   ]
  },
  {
   "cell_type": "markdown",
   "metadata": {},
   "source": [
    "## Set Orca Settings"
   ]
  },
  {
   "cell_type": "code",
   "execution_count": null,
   "metadata": {},
   "outputs": [],
   "source": [
    "orca_options = {\n",
    "    \"scr\": \"./_tmp_directory_\",  # Where should the calculations happen?\n",
    "    \"cmd\": \"orca\",  # What is the executable?\n",
    "    \"n_cores\": 4,  # How many cores to use? \n",
    "    \"memory\": 1, # How much memory to use (per core)?\n",
    "    \"show_progress\": show_progress\n",
    "}"
   ]
  },
  {
   "cell_type": "markdown",
   "metadata": {},
   "source": [
    "## Calculate some properties\n",
    "\n",
    "We can now define calculation options and get Orca properties for each conformer in the molobj.\n"
   ]
  },
  {
   "cell_type": "code",
   "execution_count": null,
   "metadata": {},
   "outputs": [],
   "source": [
    "# Optimize molecule in water\n",
    "calculation_option = {\n",
    "    \"Freq\": None,\n",
    "    \"B3LYP\": None,\n",
    "    \"def2-SVP\": None,\n",
    "    \"D3BJ\": None,\n",
    "    \"Hirshfeld\": None,\n",
    "    \"CPCM\": \"water\",\n",
    "    \"RIJCOSX\": None,\n",
    "    \"def2/J\": None,\n",
    "    \"Grid4\": None,\n",
    "    \"GridX4\": None,\n",
    "    \"NMR\": None,\n",
    "    \"def2/JK\": None\n",
    "}"
   ]
  },
  {
   "cell_type": "markdown",
   "metadata": {},
   "source": [
    "Optimize molobj and set resulting coordinates. The `.calculate` function will return a `List[Dict]` with a property dictionary for each conformer."
   ]
  },
  {
   "cell_type": "code",
   "execution_count": null,
   "metadata": {},
   "outputs": [],
   "source": [
    "molecule_properties = ppqm.orca.get_properties_from_axyzc(\n",
    "    atoms, coordinates, charge, spin, options=calculation_option, **orca_options\n",
    ")"
   ]
  },
  {
   "cell_type": "code",
   "execution_count": null,
   "metadata": {},
   "outputs": [],
   "source": [
    "# The output type\n",
    "print(type(molecule_properties))\n",
    "molecule_properties"
   ]
  },
  {
   "cell_type": "code",
   "execution_count": null,
   "metadata": {},
   "outputs": [],
   "source": [
    "energy = molecule_properties[\"scf_energy\"]\n",
    "gibbs_free_energy = molecule_properties[\"gibbs_free_energy\"]\n",
    "print(f\"Singlepoint calculation found for the provided geometry: {molecule_properties['stationary_points']}\")\n",
    "print(f\"The energy was {energy:.2f} kcal/mol\")\n",
    "print(f\"The Gibbs free energy was {gibbs_free_energy:.2f} kcal/mol\")"
   ]
  }
 ],
 "metadata": {
  "language_info": {
   "name": "python"
  }
 },
 "nbformat": 4,
 "nbformat_minor": 4
}
